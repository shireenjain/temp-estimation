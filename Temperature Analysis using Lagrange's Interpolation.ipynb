{
 "cells": [
  {
   "cell_type": "markdown",
   "id": "83a5a62e",
   "metadata": {},
   "source": [
    "# Temperature Estimation using Lagrange's Interpolation"
   ]
  },
  {
   "cell_type": "markdown",
   "id": "93334c2b",
   "metadata": {},
   "source": [
    "The data used for analysis is retrieved from Kaggle."
   ]
  },
  {
   "cell_type": "markdown",
   "id": "d54f4464",
   "metadata": {},
   "source": [
    "### *Shireen Jain*"
   ]
  },
  {
   "cell_type": "markdown",
   "id": "da3bb0d2",
   "metadata": {},
   "source": [
    "It is important to be able to obtain relevant information from available weather data due to the impact of weather on military activities, such as traffic, health, usage and functionality of electronic equipment etc. Interpolation can be used to estimate values based on existing data. Using Lagrange's Interpolation, we can estimate the temperature recordings or every month in 2015 by interpolating the temperatures from 2011 to 2016. A comparison can be drawn between the estimated and actual values to note the accuracy."
   ]
  },
  {
   "cell_type": "code",
   "execution_count": 1,
   "id": "c5faf5fd",
   "metadata": {},
   "outputs": [],
   "source": [
    "# Importing relevant Python libraries for analysing and plotting the data\n",
    "\n",
    "import pandas as pd\n",
    "import matplotlib.pyplot as plt\n",
    "import numpy as np\n",
    "import seaborn as sns"
   ]
  },
  {
   "cell_type": "code",
   "execution_count": 2,
   "id": "bbd91fff",
   "metadata": {},
   "outputs": [],
   "source": [
    "# Implementing Lagrange's Polynomial Interpolation using Scipy\n",
    "\n",
    "import scipy\n",
    "from numpy.polynomial.polynomial import Polynomial"
   ]
  },
  {
   "cell_type": "code",
   "execution_count": 3,
   "id": "e9dfde16",
   "metadata": {},
   "outputs": [],
   "source": [
    "# Given dataset contains the temperatures in Celsius for each month during the years 2011 to 2016\n",
    "\n",
    "sample_data = pd.read_csv(\"https://raw.githubusercontent.com/shireenjain/temp-estimation/main/sample-data.csv\")"
   ]
  },
  {
   "cell_type": "code",
   "execution_count": 4,
   "id": "7ac45c9c",
   "metadata": {},
   "outputs": [
    {
     "data": {
      "text/html": [
       "<div>\n",
       "<style scoped>\n",
       "    .dataframe tbody tr th:only-of-type {\n",
       "        vertical-align: middle;\n",
       "    }\n",
       "\n",
       "    .dataframe tbody tr th {\n",
       "        vertical-align: top;\n",
       "    }\n",
       "\n",
       "    .dataframe thead th {\n",
       "        text-align: right;\n",
       "    }\n",
       "</style>\n",
       "<table border=\"1\" class=\"dataframe\">\n",
       "  <thead>\n",
       "    <tr style=\"text-align: right;\">\n",
       "      <th></th>\n",
       "      <th>YEAR</th>\n",
       "      <th>JAN</th>\n",
       "      <th>FEB</th>\n",
       "      <th>MAR</th>\n",
       "      <th>APR</th>\n",
       "      <th>MAY</th>\n",
       "      <th>JUN</th>\n",
       "      <th>JUL</th>\n",
       "      <th>AUG</th>\n",
       "      <th>SEP</th>\n",
       "      <th>OCT</th>\n",
       "      <th>NOV</th>\n",
       "      <th>DEC</th>\n",
       "    </tr>\n",
       "  </thead>\n",
       "  <tbody>\n",
       "    <tr>\n",
       "      <th>0</th>\n",
       "      <td>2011</td>\n",
       "      <td>18.32</td>\n",
       "      <td>20.79</td>\n",
       "      <td>24.11</td>\n",
       "      <td>26.10</td>\n",
       "      <td>28.92</td>\n",
       "      <td>28.60</td>\n",
       "      <td>27.60</td>\n",
       "      <td>27.20</td>\n",
       "      <td>26.70</td>\n",
       "      <td>25.51</td>\n",
       "      <td>22.84</td>\n",
       "      <td>19.84</td>\n",
       "    </tr>\n",
       "    <tr>\n",
       "      <th>1</th>\n",
       "      <td>2012</td>\n",
       "      <td>18.25</td>\n",
       "      <td>20.43</td>\n",
       "      <td>23.98</td>\n",
       "      <td>26.89</td>\n",
       "      <td>28.72</td>\n",
       "      <td>28.91</td>\n",
       "      <td>27.98</td>\n",
       "      <td>27.31</td>\n",
       "      <td>26.65</td>\n",
       "      <td>24.85</td>\n",
       "      <td>22.26</td>\n",
       "      <td>19.91</td>\n",
       "    </tr>\n",
       "    <tr>\n",
       "      <th>2</th>\n",
       "      <td>2013</td>\n",
       "      <td>18.88</td>\n",
       "      <td>21.07</td>\n",
       "      <td>24.53</td>\n",
       "      <td>26.97</td>\n",
       "      <td>29.06</td>\n",
       "      <td>28.24</td>\n",
       "      <td>27.50</td>\n",
       "      <td>27.22</td>\n",
       "      <td>26.87</td>\n",
       "      <td>25.63</td>\n",
       "      <td>22.18</td>\n",
       "      <td>19.69</td>\n",
       "    </tr>\n",
       "    <tr>\n",
       "      <th>3</th>\n",
       "      <td>2014</td>\n",
       "      <td>18.81</td>\n",
       "      <td>20.35</td>\n",
       "      <td>23.34</td>\n",
       "      <td>26.91</td>\n",
       "      <td>28.45</td>\n",
       "      <td>29.42</td>\n",
       "      <td>28.07</td>\n",
       "      <td>27.42</td>\n",
       "      <td>26.61</td>\n",
       "      <td>25.38</td>\n",
       "      <td>22.53</td>\n",
       "      <td>19.50</td>\n",
       "    </tr>\n",
       "    <tr>\n",
       "      <th>4</th>\n",
       "      <td>2015</td>\n",
       "      <td>19.02</td>\n",
       "      <td>21.23</td>\n",
       "      <td>23.52</td>\n",
       "      <td>26.52</td>\n",
       "      <td>28.82</td>\n",
       "      <td>28.15</td>\n",
       "      <td>28.03</td>\n",
       "      <td>27.64</td>\n",
       "      <td>27.04</td>\n",
       "      <td>25.82</td>\n",
       "      <td>22.95</td>\n",
       "      <td>20.21</td>\n",
       "    </tr>\n",
       "    <tr>\n",
       "      <th>5</th>\n",
       "      <td>2016</td>\n",
       "      <td>20.92</td>\n",
       "      <td>23.58</td>\n",
       "      <td>26.61</td>\n",
       "      <td>29.56</td>\n",
       "      <td>30.41</td>\n",
       "      <td>29.70</td>\n",
       "      <td>28.18</td>\n",
       "      <td>28.17</td>\n",
       "      <td>27.72</td>\n",
       "      <td>26.81</td>\n",
       "      <td>23.90</td>\n",
       "      <td>21.89</td>\n",
       "    </tr>\n",
       "  </tbody>\n",
       "</table>\n",
       "</div>"
      ],
      "text/plain": [
       "   YEAR    JAN    FEB    MAR    APR    MAY    JUN    JUL    AUG    SEP    OCT  \\\n",
       "0  2011  18.32  20.79  24.11  26.10  28.92  28.60  27.60  27.20  26.70  25.51   \n",
       "1  2012  18.25  20.43  23.98  26.89  28.72  28.91  27.98  27.31  26.65  24.85   \n",
       "2  2013  18.88  21.07  24.53  26.97  29.06  28.24  27.50  27.22  26.87  25.63   \n",
       "3  2014  18.81  20.35  23.34  26.91  28.45  29.42  28.07  27.42  26.61  25.38   \n",
       "4  2015  19.02  21.23  23.52  26.52  28.82  28.15  28.03  27.64  27.04  25.82   \n",
       "5  2016  20.92  23.58  26.61  29.56  30.41  29.70  28.18  28.17  27.72  26.81   \n",
       "\n",
       "     NOV    DEC  \n",
       "0  22.84  19.84  \n",
       "1  22.26  19.91  \n",
       "2  22.18  19.69  \n",
       "3  22.53  19.50  \n",
       "4  22.95  20.21  \n",
       "5  23.90  21.89  "
      ]
     },
     "execution_count": 4,
     "metadata": {},
     "output_type": "execute_result"
    }
   ],
   "source": [
    "# Displaying the data\n",
    "\n",
    "sample_data"
   ]
  },
  {
   "cell_type": "code",
   "execution_count": 5,
   "id": "2febb8ed",
   "metadata": {},
   "outputs": [],
   "source": [
    "# The temperatures of every month in 2015 are to be interpolated \n",
    "\n",
    "years = [2011,2012,2013,2014,2015,2016]\n",
    "years.remove(2015)"
   ]
  },
  {
   "cell_type": "markdown",
   "id": "855c2b13",
   "metadata": {},
   "source": [
    "## Estimating the temperature of January 2015"
   ]
  },
  {
   "cell_type": "code",
   "execution_count": 6,
   "id": "cd2c714c",
   "metadata": {},
   "outputs": [],
   "source": [
    "temp_january = [18.32,18.25,18.88,18.81,19.02,20.92]\n",
    "temp_january.remove(19.02)"
   ]
  },
  {
   "cell_type": "code",
   "execution_count": 7,
   "id": "c710d56c",
   "metadata": {},
   "outputs": [],
   "source": [
    "data_jan = pd.DataFrame({\"years\": years, \"temp_january\": temp_january})"
   ]
  },
  {
   "cell_type": "code",
   "execution_count": 8,
   "id": "816e9e65",
   "metadata": {},
   "outputs": [
    {
     "data": {
      "text/html": [
       "<div>\n",
       "<style scoped>\n",
       "    .dataframe tbody tr th:only-of-type {\n",
       "        vertical-align: middle;\n",
       "    }\n",
       "\n",
       "    .dataframe tbody tr th {\n",
       "        vertical-align: top;\n",
       "    }\n",
       "\n",
       "    .dataframe thead th {\n",
       "        text-align: right;\n",
       "    }\n",
       "</style>\n",
       "<table border=\"1\" class=\"dataframe\">\n",
       "  <thead>\n",
       "    <tr style=\"text-align: right;\">\n",
       "      <th></th>\n",
       "      <th>years</th>\n",
       "      <th>temp_january</th>\n",
       "    </tr>\n",
       "  </thead>\n",
       "  <tbody>\n",
       "    <tr>\n",
       "      <th>0</th>\n",
       "      <td>2011</td>\n",
       "      <td>18.32</td>\n",
       "    </tr>\n",
       "    <tr>\n",
       "      <th>1</th>\n",
       "      <td>2012</td>\n",
       "      <td>18.25</td>\n",
       "    </tr>\n",
       "    <tr>\n",
       "      <th>2</th>\n",
       "      <td>2013</td>\n",
       "      <td>18.88</td>\n",
       "    </tr>\n",
       "    <tr>\n",
       "      <th>3</th>\n",
       "      <td>2014</td>\n",
       "      <td>18.81</td>\n",
       "    </tr>\n",
       "    <tr>\n",
       "      <th>4</th>\n",
       "      <td>2016</td>\n",
       "      <td>20.92</td>\n",
       "    </tr>\n",
       "  </tbody>\n",
       "</table>\n",
       "</div>"
      ],
      "text/plain": [
       "   years  temp_january\n",
       "0   2011         18.32\n",
       "1   2012         18.25\n",
       "2   2013         18.88\n",
       "3   2014         18.81\n",
       "4   2016         20.92"
      ]
     },
     "execution_count": 8,
     "metadata": {},
     "output_type": "execute_result"
    }
   ],
   "source": [
    "data_jan"
   ]
  },
  {
   "cell_type": "code",
   "execution_count": 9,
   "id": "50f4f787",
   "metadata": {},
   "outputs": [
    {
     "data": {
      "image/png": "[encoded data removed]",
      "text/plain": [
       "<Figure size 864x720 with 1 Axes>"
      ]
     },
     "metadata": {
      "needs_background": "light"
     },
     "output_type": "display_data"
    }
   ],
   "source": [
    "# Estimate the temperature for January 2015 using Lagrange's Interpolation with 5 values\n",
    "lagrange_interpolation = scipy.interpolate.lagrange(years, temp_january)\n",
    "\n",
    "# Based on the graph the value can be estimated \n",
    "plt.figure(figsize=(12,10))\n",
    "plt.plot(years, lagrange_interpolation(years))\n",
    "plt.xlim(2011,2016)\n",
    "plt.ylim(18,21)\n",
    "plt.xlabel(\"Years\")\n",
    "plt.ylabel(\"Temperature in Celsius\")\n",
    "plt.title(\"Lagrange's Interpolation to estimate the temperature of January 2015\")\n",
    "plt.show()"
   ]
  },
  {
   "cell_type": "code",
   "execution_count": 10,
   "id": "8c1d19ca",
   "metadata": {},
   "outputs": [
    {
     "data": {
      "text/plain": [
       "19.865000000000002"
      ]
     },
     "execution_count": 10,
     "metadata": {},
     "output_type": "execute_result"
    }
   ],
   "source": [
    "# The value of temperature for January 2015 based on the graph\n",
    "\n",
    "np.interp(2015, years, temp_january)"
   ]
  },
  {
   "cell_type": "markdown",
   "id": "e7deb3e0",
   "metadata": {},
   "source": [
    "## Estimating the temperature of February 2015"
   ]
  },
  {
   "cell_type": "code",
   "execution_count": 12,
   "id": "3d6286eb",
   "metadata": {},
   "outputs": [],
   "source": [
    "temp_february = [20.79,20.43,21.07,20.35,21.23,23.58]\n",
    "temp_february.remove(21.23)"
   ]
  },
  {
   "cell_type": "code",
   "execution_count": 13,
   "id": "1d93996f",
   "metadata": {},
   "outputs": [],
   "source": [
    "data_feb = pd.DataFrame({\"years\": years, \"temp_february\": temp_february})"
   ]
  },
  {
   "cell_type": "code",
   "execution_count": 14,
   "id": "fcc8dde6",
   "metadata": {},
   "outputs": [
    {
     "data": {
      "text/html": [
       "<div>\n",
       "<style scoped>\n",
       "    .dataframe tbody tr th:only-of-type {\n",
       "        vertical-align: middle;\n",
       "    }\n",
       "\n",
       "    .dataframe tbody tr th {\n",
       "        vertical-align: top;\n",
       "    }\n",
       "\n",
       "    .dataframe thead th {\n",
       "        text-align: right;\n",
       "    }\n",
       "</style>\n",
       "<table border=\"1\" class=\"dataframe\">\n",
       "  <thead>\n",
       "    <tr style=\"text-align: right;\">\n",
       "      <th></th>\n",
       "      <th>years</th>\n",
       "      <th>temp_february</th>\n",
       "    </tr>\n",
       "  </thead>\n",
       "  <tbody>\n",
       "    <tr>\n",
       "      <th>0</th>\n",
       "      <td>2011</td>\n",
       "      <td>20.79</td>\n",
       "    </tr>\n",
       "    <tr>\n",
       "      <th>1</th>\n",
       "      <td>2012</td>\n",
       "      <td>20.43</td>\n",
       "    </tr>\n",
       "    <tr>\n",
       "      <th>2</th>\n",
       "      <td>2013</td>\n",
       "      <td>21.07</td>\n",
       "    </tr>\n",
       "    <tr>\n",
       "      <th>3</th>\n",
       "      <td>2014</td>\n",
       "      <td>20.35</td>\n",
       "    </tr>\n",
       "    <tr>\n",
       "      <th>4</th>\n",
       "      <td>2016</td>\n",
       "      <td>23.58</td>\n",
       "    </tr>\n",
       "  </tbody>\n",
       "</table>\n",
       "</div>"
      ],
      "text/plain": [
       "   years  temp_february\n",
       "0   2011          20.79\n",
       "1   2012          20.43\n",
       "2   2013          21.07\n",
       "3   2014          20.35\n",
       "4   2016          23.58"
      ]
     },
     "execution_count": 14,
     "metadata": {},
     "output_type": "execute_result"
    }
   ],
   "source": [
    "data_feb"
   ]
  },
  {
   "cell_type": "code",
   "execution_count": 15,
   "id": "a285b31f",
   "metadata": {},
   "outputs": [
    {
     "data": {
      "image/png": "[encoded data removed]",
      "text/plain": [
       "<Figure size 864x720 with 1 Axes>"
      ]
     },
     "metadata": {
      "needs_background": "light"
     },
     "output_type": "display_data"
    }
   ],
   "source": [
    "# Estimate the temperature for February 2015 using Lagrange's Interpolation with 5 values\n",
    "lagrange_interpolation = scipy.interpolate.lagrange(years, temp_february)\n",
    "\n",
    "# Based on the graph the value can be estimated \n",
    "plt.figure(figsize=(12,10))\n",
    "plt.plot(years, lagrange_interpolation(years))\n",
    "plt.xlim(2011,2016)\n",
    "plt.ylim(20,24)\n",
    "plt.xlabel(\"Years\")\n",
    "plt.ylabel(\"Temperature in Celsius\")\n",
    "plt.title(\"Lagrange's Interpolation to estimate the temperature of February 2015\")\n",
    "plt.show()"
   ]
  },
  {
   "cell_type": "code",
   "execution_count": 16,
   "id": "8b6032b3",
   "metadata": {},
   "outputs": [
    {
     "data": {
      "text/plain": [
       "21.965"
      ]
     },
     "execution_count": 16,
     "metadata": {},
     "output_type": "execute_result"
    }
   ],
   "source": [
    "# The value of temperature for February 2015 based on the graph\n",
    "\n",
    "np.interp(2015, years, temp_february)"
   ]
  },
  {
   "cell_type": "markdown",
   "id": "5918edf1",
   "metadata": {},
   "source": [
    "## Estimating the temperature of March 2015\n"
   ]
  },
  {
   "cell_type": "code",
   "execution_count": 17,
   "id": "ba85391c",
   "metadata": {},
   "outputs": [],
   "source": [
    "temp_march = [24.11,23.98,24.53,23.34,23.52,26.61]\n",
    "temp_march.remove(23.52)"
   ]
  },
  {
   "cell_type": "code",
   "execution_count": 18,
   "id": "36544d33",
   "metadata": {},
   "outputs": [],
   "source": [
    "data_mar = pd.DataFrame({\"years\": years, \"temp_march\": temp_march})"
   ]
  },
  {
   "cell_type": "code",
   "execution_count": 19,
   "id": "e32c4cee",
   "metadata": {},
   "outputs": [
    {
     "data": {
      "text/html": [
       "<div>\n",
       "<style scoped>\n",
       "    .dataframe tbody tr th:only-of-type {\n",
       "        vertical-align: middle;\n",
       "    }\n",
       "\n",
       "    .dataframe tbody tr th {\n",
       "        vertical-align: top;\n",
       "    }\n",
       "\n",
       "    .dataframe thead th {\n",
       "        text-align: right;\n",
       "    }\n",
       "</style>\n",
       "<table border=\"1\" class=\"dataframe\">\n",
       "  <thead>\n",
       "    <tr style=\"text-align: right;\">\n",
       "      <th></th>\n",
       "      <th>years</th>\n",
       "      <th>temp_march</th>\n",
       "    </tr>\n",
       "  </thead>\n",
       "  <tbody>\n",
       "    <tr>\n",
       "      <th>0</th>\n",
       "      <td>2011</td>\n",
       "      <td>24.11</td>\n",
       "    </tr>\n",
       "    <tr>\n",
       "      <th>1</th>\n",
       "      <td>2012</td>\n",
       "      <td>23.98</td>\n",
       "    </tr>\n",
       "    <tr>\n",
       "      <th>2</th>\n",
       "      <td>2013</td>\n",
       "      <td>24.53</td>\n",
       "    </tr>\n",
       "    <tr>\n",
       "      <th>3</th>\n",
       "      <td>2014</td>\n",
       "      <td>23.34</td>\n",
       "    </tr>\n",
       "    <tr>\n",
       "      <th>4</th>\n",
       "      <td>2016</td>\n",
       "      <td>26.61</td>\n",
       "    </tr>\n",
       "  </tbody>\n",
       "</table>\n",
       "</div>"
      ],
      "text/plain": [
       "   years  temp_march\n",
       "0   2011       24.11\n",
       "1   2012       23.98\n",
       "2   2013       24.53\n",
       "3   2014       23.34\n",
       "4   2016       26.61"
      ]
     },
     "execution_count": 19,
     "metadata": {},
     "output_type": "execute_result"
    }
   ],
   "source": [
    "data_mar"
   ]
  },
  {
   "cell_type": "code",
   "execution_count": 20,
   "id": "d2228cf5",
   "metadata": {},
   "outputs": [
    {
     "data": {
      "image/png": "[encoded data removed]",
      "text/plain": [
       "<Figure size 864x720 with 1 Axes>"
      ]
     },
     "metadata": {
      "needs_background": "light"
     },
     "output_type": "display_data"
    }
   ],
   "source": [
    "# Estimate the temperature for March 2015 using Lagrange's Interpolation with 5 values\n",
    "lagrange_interpolation = scipy.interpolate.lagrange(years, temp_march)\n",
    "\n",
    "# Based on the graph the value can be estimated \n",
    "plt.figure(figsize=(12,10))\n",
    "plt.plot(years, lagrange_interpolation(years))\n",
    "plt.xlim(2011,2016)\n",
    "plt.ylim(23,27)\n",
    "plt.xlabel(\"Years\")\n",
    "plt.ylabel(\"Temperature in Celsius\")\n",
    "plt.title(\"Lagrange's Interpolation to estimate the temperature of March 2015\")\n",
    "plt.show()"
   ]
  },
  {
   "cell_type": "code",
   "execution_count": 21,
   "id": "49fa90b7",
   "metadata": {},
   "outputs": [
    {
     "data": {
      "text/plain": [
       "24.975"
      ]
     },
     "execution_count": 21,
     "metadata": {},
     "output_type": "execute_result"
    }
   ],
   "source": [
    "# The value of temperature for March 2015 based on the graph\n",
    "\n",
    "np.interp(2015, years, temp_march)"
   ]
  },
  {
   "cell_type": "markdown",
   "id": "bf4652cc",
   "metadata": {},
   "source": [
    "## Estimating the temperature of April 2015\n"
   ]
  },
  {
   "cell_type": "code",
   "execution_count": 22,
   "id": "7c4685f7",
   "metadata": {},
   "outputs": [],
   "source": [
    "temp_april = [26.1,26.89,26.97,26.91,26.52,29.56]\n",
    "temp_april.remove(26.52)"
   ]
  },
  {
   "cell_type": "code",
   "execution_count": 23,
   "id": "6aa83a9b",
   "metadata": {},
   "outputs": [],
   "source": [
    "data_apr = pd.DataFrame({\"years\": years, \"temp_april\": temp_april})"
   ]
  },
  {
   "cell_type": "code",
   "execution_count": 24,
   "id": "717e68bb",
   "metadata": {},
   "outputs": [
    {
     "data": {
      "text/html": [
       "<div>\n",
       "<style scoped>\n",
       "    .dataframe tbody tr th:only-of-type {\n",
       "        vertical-align: middle;\n",
       "    }\n",
       "\n",
       "    .dataframe tbody tr th {\n",
       "        vertical-align: top;\n",
       "    }\n",
       "\n",
       "    .dataframe thead th {\n",
       "        text-align: right;\n",
       "    }\n",
       "</style>\n",
       "<table border=\"1\" class=\"dataframe\">\n",
       "  <thead>\n",
       "    <tr style=\"text-align: right;\">\n",
       "      <th></th>\n",
       "      <th>years</th>\n",
       "      <th>temp_april</th>\n",
       "    </tr>\n",
       "  </thead>\n",
       "  <tbody>\n",
       "    <tr>\n",
       "      <th>0</th>\n",
       "      <td>2011</td>\n",
       "      <td>26.10</td>\n",
       "    </tr>\n",
       "    <tr>\n",
       "      <th>1</th>\n",
       "      <td>2012</td>\n",
       "      <td>26.89</td>\n",
       "    </tr>\n",
       "    <tr>\n",
       "      <th>2</th>\n",
       "      <td>2013</td>\n",
       "      <td>26.97</td>\n",
       "    </tr>\n",
       "    <tr>\n",
       "      <th>3</th>\n",
       "      <td>2014</td>\n",
       "      <td>26.91</td>\n",
       "    </tr>\n",
       "    <tr>\n",
       "      <th>4</th>\n",
       "      <td>2016</td>\n",
       "      <td>29.56</td>\n",
       "    </tr>\n",
       "  </tbody>\n",
       "</table>\n",
       "</div>"
      ],
      "text/plain": [
       "   years  temp_april\n",
       "0   2011       26.10\n",
       "1   2012       26.89\n",
       "2   2013       26.97\n",
       "3   2014       26.91\n",
       "4   2016       29.56"
      ]
     },
     "execution_count": 24,
     "metadata": {},
     "output_type": "execute_result"
    }
   ],
   "source": [
    "data_apr"
   ]
  },
  {
   "cell_type": "code",
   "execution_count": 25,
   "id": "a0537b83",
   "metadata": {},
   "outputs": [
    {
     "data": {
      "image/png": "[encoded data removed]",
      "text/plain": [
       "<Figure size 864x720 with 1 Axes>"
      ]
     },
     "metadata": {
      "needs_background": "light"
     },
     "output_type": "display_data"
    }
   ],
   "source": [
    "# Estimate the temperature for April 2015 using Lagrange's Interpolation with 5 values\n",
    "lagrange_interpolation = scipy.interpolate.lagrange(years, temp_april)\n",
    "\n",
    "# Based on the graph the value can be estimated \n",
    "plt.figure(figsize=(12,10))\n",
    "plt.plot(years, lagrange_interpolation(years))\n",
    "plt.xlim(2011,2016)\n",
    "plt.ylim(26,30)\n",
    "plt.xlabel(\"Years\")\n",
    "plt.ylabel(\"Temperature in Celsius\")\n",
    "plt.title(\"Lagrange's Interpolation to estimate the temperature of April 2015\")\n",
    "plt.show()"
   ]
  },
  {
   "cell_type": "code",
   "execution_count": 26,
   "id": "f7cc25ce",
   "metadata": {},
   "outputs": [
    {
     "data": {
      "text/plain": [
       "28.235"
      ]
     },
     "execution_count": 26,
     "metadata": {},
     "output_type": "execute_result"
    }
   ],
   "source": [
    "# The value of temperature for April 2015 based on the graph\n",
    "\n",
    "np.interp(2015, years, temp_april)"
   ]
  },
  {
   "cell_type": "markdown",
   "id": "c9c40361",
   "metadata": {},
   "source": [
    "## Estimating the temperature of May 2015\n"
   ]
  },
  {
   "cell_type": "code",
   "execution_count": 27,
   "id": "0492217e",
   "metadata": {},
   "outputs": [],
   "source": [
    "temp_may = [28.92,28.72,29.06,28.45,28.82,30.41]\n",
    "temp_may.remove(28.82)"
   ]
  },
  {
   "cell_type": "code",
   "execution_count": 28,
   "id": "48f56383",
   "metadata": {},
   "outputs": [],
   "source": [
    "data_may = pd.DataFrame({\"years\": years, \"temp_may\": temp_may})"
   ]
  },
  {
   "cell_type": "code",
   "execution_count": 29,
   "id": "4a910da4",
   "metadata": {},
   "outputs": [
    {
     "data": {
      "text/html": [
       "<div>\n",
       "<style scoped>\n",
       "    .dataframe tbody tr th:only-of-type {\n",
       "        vertical-align: middle;\n",
       "    }\n",
       "\n",
       "    .dataframe tbody tr th {\n",
       "        vertical-align: top;\n",
       "    }\n",
       "\n",
       "    .dataframe thead th {\n",
       "        text-align: right;\n",
       "    }\n",
       "</style>\n",
       "<table border=\"1\" class=\"dataframe\">\n",
       "  <thead>\n",
       "    <tr style=\"text-align: right;\">\n",
       "      <th></th>\n",
       "      <th>years</th>\n",
       "      <th>temp_may</th>\n",
       "    </tr>\n",
       "  </thead>\n",
       "  <tbody>\n",
       "    <tr>\n",
       "      <th>0</th>\n",
       "      <td>2011</td>\n",
       "      <td>28.92</td>\n",
       "    </tr>\n",
       "    <tr>\n",
       "      <th>1</th>\n",
       "      <td>2012</td>\n",
       "      <td>28.72</td>\n",
       "    </tr>\n",
       "    <tr>\n",
       "      <th>2</th>\n",
       "      <td>2013</td>\n",
       "      <td>29.06</td>\n",
       "    </tr>\n",
       "    <tr>\n",
       "      <th>3</th>\n",
       "      <td>2014</td>\n",
       "      <td>28.45</td>\n",
       "    </tr>\n",
       "    <tr>\n",
       "      <th>4</th>\n",
       "      <td>2016</td>\n",
       "      <td>30.41</td>\n",
       "    </tr>\n",
       "  </tbody>\n",
       "</table>\n",
       "</div>"
      ],
      "text/plain": [
       "   years  temp_may\n",
       "0   2011     28.92\n",
       "1   2012     28.72\n",
       "2   2013     29.06\n",
       "3   2014     28.45\n",
       "4   2016     30.41"
      ]
     },
     "execution_count": 29,
     "metadata": {},
     "output_type": "execute_result"
    }
   ],
   "source": [
    "data_may"
   ]
  },
  {
   "cell_type": "code",
   "execution_count": 30,
   "id": "34900e3d",
   "metadata": {},
   "outputs": [
    {
     "data": {
      "image/png": "[encoded data removed]",
      "text/plain": [
       "<Figure size 864x720 with 1 Axes>"
      ]
     },
     "metadata": {
      "needs_background": "light"
     },
     "output_type": "display_data"
    }
   ],
   "source": [
    "# Estimate the temperature for May 2015 using Lagrange's Interpolation with 5 values\n",
    "lagrange_interpolation = scipy.interpolate.lagrange(years, temp_may)\n",
    "\n",
    "# Based on the graph the value can be estimated \n",
    "plt.figure(figsize=(12,10))\n",
    "plt.plot(years, lagrange_interpolation(years))\n",
    "plt.xlim(2011,2016)\n",
    "plt.ylim(28,31)\n",
    "plt.xlabel(\"Years\")\n",
    "plt.ylabel(\"Temperature in Celsius\")\n",
    "plt.title(\"Lagrange's Interpolation to estimate the temperature of May 2015\")\n",
    "plt.show()"
   ]
  },
  {
   "cell_type": "code",
   "execution_count": 31,
   "id": "3dacf794",
   "metadata": {},
   "outputs": [
    {
     "data": {
      "text/plain": [
       "29.43"
      ]
     },
     "execution_count": 31,
     "metadata": {},
     "output_type": "execute_result"
    }
   ],
   "source": [
    "# The value of temperature for May 2015 based on the graph\n",
    "\n",
    "np.interp(2015, years, temp_may)"
   ]
  },
  {
   "cell_type": "markdown",
   "id": "611e1b97",
   "metadata": {},
   "source": [
    "## Estimating the temperature of June 2015"
   ]
  },
  {
   "cell_type": "code",
   "execution_count": 32,
   "id": "d571edd1",
   "metadata": {},
   "outputs": [],
   "source": [
    "temp_june = [28.6,28.91,28.24,29.42,28.15,29.7]\n",
    "temp_june.remove(28.15)"
   ]
  },
  {
   "cell_type": "code",
   "execution_count": 33,
   "id": "e0c36364",
   "metadata": {},
   "outputs": [],
   "source": [
    "data_jun = pd.DataFrame({\"years\": years, \"temp_june\": temp_june})"
   ]
  },
  {
   "cell_type": "code",
   "execution_count": 34,
   "id": "34cb6c2f",
   "metadata": {},
   "outputs": [
    {
     "data": {
      "text/html": [
       "<div>\n",
       "<style scoped>\n",
       "    .dataframe tbody tr th:only-of-type {\n",
       "        vertical-align: middle;\n",
       "    }\n",
       "\n",
       "    .dataframe tbody tr th {\n",
       "        vertical-align: top;\n",
       "    }\n",
       "\n",
       "    .dataframe thead th {\n",
       "        text-align: right;\n",
       "    }\n",
       "</style>\n",
       "<table border=\"1\" class=\"dataframe\">\n",
       "  <thead>\n",
       "    <tr style=\"text-align: right;\">\n",
       "      <th></th>\n",
       "      <th>years</th>\n",
       "      <th>temp_june</th>\n",
       "    </tr>\n",
       "  </thead>\n",
       "  <tbody>\n",
       "    <tr>\n",
       "      <th>0</th>\n",
       "      <td>2011</td>\n",
       "      <td>28.60</td>\n",
       "    </tr>\n",
       "    <tr>\n",
       "      <th>1</th>\n",
       "      <td>2012</td>\n",
       "      <td>28.91</td>\n",
       "    </tr>\n",
       "    <tr>\n",
       "      <th>2</th>\n",
       "      <td>2013</td>\n",
       "      <td>28.24</td>\n",
       "    </tr>\n",
       "    <tr>\n",
       "      <th>3</th>\n",
       "      <td>2014</td>\n",
       "      <td>29.42</td>\n",
       "    </tr>\n",
       "    <tr>\n",
       "      <th>4</th>\n",
       "      <td>2016</td>\n",
       "      <td>29.70</td>\n",
       "    </tr>\n",
       "  </tbody>\n",
       "</table>\n",
       "</div>"
      ],
      "text/plain": [
       "   years  temp_june\n",
       "0   2011      28.60\n",
       "1   2012      28.91\n",
       "2   2013      28.24\n",
       "3   2014      29.42\n",
       "4   2016      29.70"
      ]
     },
     "execution_count": 34,
     "metadata": {},
     "output_type": "execute_result"
    }
   ],
   "source": [
    "data_jun"
   ]
  },
  {
   "cell_type": "code",
   "execution_count": 35,
   "id": "d00a3ec2",
   "metadata": {},
   "outputs": [
    {
     "data": {
      "image/png": "[encoded data removed]",
      "text/plain": [
       "<Figure size 864x720 with 1 Axes>"
      ]
     },
     "metadata": {
      "needs_background": "light"
     },
     "output_type": "display_data"
    }
   ],
   "source": [
    "# Estimate the temperature for June 2015 using Lagrange's Interpolation with 5 values\n",
    "lagrange_interpolation = scipy.interpolate.lagrange(years, temp_june)\n",
    "\n",
    "# Based on the graph the value can be estimated \n",
    "plt.figure(figsize=(12,10))\n",
    "plt.plot(years, lagrange_interpolation(years))\n",
    "plt.xlim(2011,2016)\n",
    "plt.ylim(28,30)\n",
    "plt.xlabel(\"Years\")\n",
    "plt.ylabel(\"Temperature in Celsius\")\n",
    "plt.title(\"Lagrange's Interpolation to estimate the temperature of June 2015\")\n",
    "plt.show()"
   ]
  },
  {
   "cell_type": "code",
   "execution_count": 37,
   "id": "e72e7d49",
   "metadata": {},
   "outputs": [
    {
     "data": {
      "text/plain": [
       "29.560000000000002"
      ]
     },
     "execution_count": 37,
     "metadata": {},
     "output_type": "execute_result"
    }
   ],
   "source": [
    "# The value of temperature for June 2015 based on the graph\n",
    "\n",
    "np.interp(2015, years, temp_june)"
   ]
  },
  {
   "cell_type": "markdown",
   "id": "f49a0a02",
   "metadata": {},
   "source": [
    "## Estimating the temperature of July 2015"
   ]
  },
  {
   "cell_type": "code",
   "execution_count": 38,
   "id": "9a46f30a",
   "metadata": {},
   "outputs": [],
   "source": [
    "temp_july = [27.6,27.98,27.5,28.07,28.03,28.18]\n",
    "temp_july.remove(28.03)"
   ]
  },
  {
   "cell_type": "code",
   "execution_count": 39,
   "id": "3e5c9b73",
   "metadata": {},
   "outputs": [],
   "source": [
    "data_jul = pd.DataFrame({\"years\": years, \"temp_july\": temp_july})"
   ]
  },
  {
   "cell_type": "code",
   "execution_count": 40,
   "id": "113f40f3",
   "metadata": {},
   "outputs": [
    {
     "data": {
      "text/html": [
       "<div>\n",
       "<style scoped>\n",
       "    .dataframe tbody tr th:only-of-type {\n",
       "        vertical-align: middle;\n",
       "    }\n",
       "\n",
       "    .dataframe tbody tr th {\n",
       "        vertical-align: top;\n",
       "    }\n",
       "\n",
       "    .dataframe thead th {\n",
       "        text-align: right;\n",
       "    }\n",
       "</style>\n",
       "<table border=\"1\" class=\"dataframe\">\n",
       "  <thead>\n",
       "    <tr style=\"text-align: right;\">\n",
       "      <th></th>\n",
       "      <th>years</th>\n",
       "      <th>temp_july</th>\n",
       "    </tr>\n",
       "  </thead>\n",
       "  <tbody>\n",
       "    <tr>\n",
       "      <th>0</th>\n",
       "      <td>2011</td>\n",
       "      <td>27.60</td>\n",
       "    </tr>\n",
       "    <tr>\n",
       "      <th>1</th>\n",
       "      <td>2012</td>\n",
       "      <td>27.98</td>\n",
       "    </tr>\n",
       "    <tr>\n",
       "      <th>2</th>\n",
       "      <td>2013</td>\n",
       "      <td>27.50</td>\n",
       "    </tr>\n",
       "    <tr>\n",
       "      <th>3</th>\n",
       "      <td>2014</td>\n",
       "      <td>28.07</td>\n",
       "    </tr>\n",
       "    <tr>\n",
       "      <th>4</th>\n",
       "      <td>2016</td>\n",
       "      <td>28.18</td>\n",
       "    </tr>\n",
       "  </tbody>\n",
       "</table>\n",
       "</div>"
      ],
      "text/plain": [
       "   years  temp_july\n",
       "0   2011      27.60\n",
       "1   2012      27.98\n",
       "2   2013      27.50\n",
       "3   2014      28.07\n",
       "4   2016      28.18"
      ]
     },
     "execution_count": 40,
     "metadata": {},
     "output_type": "execute_result"
    }
   ],
   "source": [
    "data_jul"
   ]
  },
  {
   "cell_type": "code",
   "execution_count": 41,
   "id": "704bdac7",
   "metadata": {},
   "outputs": [
    {
     "data": {
      "image/png": "[encoded data removed]",
      "text/plain": [
       "<Figure size 864x720 with 1 Axes>"
      ]
     },
     "metadata": {
      "needs_background": "light"
     },
     "output_type": "display_data"
    }
   ],
   "source": [
    "# Estimate the temperature for July 2015 using Lagrange's Interpolation with 5 values\n",
    "lagrange_interpolation = scipy.interpolate.lagrange(years, temp_july)\n",
    "\n",
    "# Based on the graph the value can be estimated \n",
    "plt.figure(figsize=(12,10))\n",
    "plt.plot(years, lagrange_interpolation(years))\n",
    "plt.xlim(2011,2016)\n",
    "plt.ylim(27,29)\n",
    "plt.xlabel(\"Years\")\n",
    "plt.ylabel(\"Temperature in Celsius\")\n",
    "plt.title(\"Lagrange's Interpolation to estimate the temperature of July 2015\")\n",
    "plt.show()"
   ]
  },
  {
   "cell_type": "code",
   "execution_count": 42,
   "id": "731fd1dd",
   "metadata": {},
   "outputs": [
    {
     "data": {
      "text/plain": [
       "28.125"
      ]
     },
     "execution_count": 42,
     "metadata": {},
     "output_type": "execute_result"
    }
   ],
   "source": [
    "# The value of temperature for July 2015 based on the graph\n",
    "\n",
    "np.interp(2015, years, temp_july)"
   ]
  },
  {
   "cell_type": "markdown",
   "id": "3166891b",
   "metadata": {},
   "source": [
    "## Estimating the temperature of August 2015"
   ]
  },
  {
   "cell_type": "code",
   "execution_count": 43,
   "id": "421a68ab",
   "metadata": {},
   "outputs": [],
   "source": [
    "temp_august = [27.2,27.31,27.22,27.42,27.64,28.17]\n",
    "temp_august.remove(27.64)"
   ]
  },
  {
   "cell_type": "code",
   "execution_count": 44,
   "id": "4ea53bee",
   "metadata": {},
   "outputs": [],
   "source": [
    "data_aug = pd.DataFrame({\"years\": years, \"temp_august\": temp_august})"
   ]
  },
  {
   "cell_type": "code",
   "execution_count": 45,
   "id": "1dd11b31",
   "metadata": {},
   "outputs": [
    {
     "data": {
      "text/html": [
       "<div>\n",
       "<style scoped>\n",
       "    .dataframe tbody tr th:only-of-type {\n",
       "        vertical-align: middle;\n",
       "    }\n",
       "\n",
       "    .dataframe tbody tr th {\n",
       "        vertical-align: top;\n",
       "    }\n",
       "\n",
       "    .dataframe thead th {\n",
       "        text-align: right;\n",
       "    }\n",
       "</style>\n",
       "<table border=\"1\" class=\"dataframe\">\n",
       "  <thead>\n",
       "    <tr style=\"text-align: right;\">\n",
       "      <th></th>\n",
       "      <th>years</th>\n",
       "      <th>temp_august</th>\n",
       "    </tr>\n",
       "  </thead>\n",
       "  <tbody>\n",
       "    <tr>\n",
       "      <th>0</th>\n",
       "      <td>2011</td>\n",
       "      <td>27.20</td>\n",
       "    </tr>\n",
       "    <tr>\n",
       "      <th>1</th>\n",
       "      <td>2012</td>\n",
       "      <td>27.31</td>\n",
       "    </tr>\n",
       "    <tr>\n",
       "      <th>2</th>\n",
       "      <td>2013</td>\n",
       "      <td>27.22</td>\n",
       "    </tr>\n",
       "    <tr>\n",
       "      <th>3</th>\n",
       "      <td>2014</td>\n",
       "      <td>27.42</td>\n",
       "    </tr>\n",
       "    <tr>\n",
       "      <th>4</th>\n",
       "      <td>2016</td>\n",
       "      <td>28.17</td>\n",
       "    </tr>\n",
       "  </tbody>\n",
       "</table>\n",
       "</div>"
      ],
      "text/plain": [
       "   years  temp_august\n",
       "0   2011        27.20\n",
       "1   2012        27.31\n",
       "2   2013        27.22\n",
       "3   2014        27.42\n",
       "4   2016        28.17"
      ]
     },
     "execution_count": 45,
     "metadata": {},
     "output_type": "execute_result"
    }
   ],
   "source": [
    "data_aug"
   ]
  },
  {
   "cell_type": "code",
   "execution_count": 46,
   "id": "21927796",
   "metadata": {},
   "outputs": [
    {
     "data": {
      "image/png": "[encoded data removed]",
      "text/plain": [
       "<Figure size 864x720 with 1 Axes>"
      ]
     },
     "metadata": {
      "needs_background": "light"
     },
     "output_type": "display_data"
    }
   ],
   "source": [
    "# Estimate the temperature for August 2015 using Lagrange's Interpolation with 5 values\n",
    "lagrange_interpolation = scipy.interpolate.lagrange(years, temp_august)\n",
    "\n",
    "# Based on the graph the value can be estimated \n",
    "plt.figure(figsize=(12,10))\n",
    "plt.plot(years, lagrange_interpolation(years))\n",
    "plt.xlim(2011,2016)\n",
    "plt.ylim(27,28.5)\n",
    "plt.xlabel(\"Years\")\n",
    "plt.ylabel(\"Temperature in Celsius\")\n",
    "plt.title(\"Lagrange's Interpolation to estimate the temperature of August 2015\")\n",
    "plt.show()"
   ]
  },
  {
   "cell_type": "code",
   "execution_count": 47,
   "id": "219cb3f2",
   "metadata": {},
   "outputs": [
    {
     "data": {
      "text/plain": [
       "27.795"
      ]
     },
     "execution_count": 47,
     "metadata": {},
     "output_type": "execute_result"
    }
   ],
   "source": [
    "# The value of temperature for August 2015 based on the graph\n",
    "\n",
    "np.interp(2015, years, temp_august)"
   ]
  },
  {
   "cell_type": "markdown",
   "id": "dc506e2a",
   "metadata": {},
   "source": [
    "## Estimating the temperature of September 2015"
   ]
  },
  {
   "cell_type": "code",
   "execution_count": 48,
   "id": "2ba9676e",
   "metadata": {},
   "outputs": [],
   "source": [
    "temp_september = [26.7,26.65,26.87,26.61,27.04,27.72]\n",
    "temp_september.remove(27.04)"
   ]
  },
  {
   "cell_type": "code",
   "execution_count": 49,
   "id": "dc2bbc04",
   "metadata": {},
   "outputs": [],
   "source": [
    "data_sep = pd.DataFrame({\"years\": years, \"temp_september\": temp_september})"
   ]
  },
  {
   "cell_type": "code",
   "execution_count": 50,
   "id": "589265f8",
   "metadata": {},
   "outputs": [
    {
     "data": {
      "text/html": [
       "<div>\n",
       "<style scoped>\n",
       "    .dataframe tbody tr th:only-of-type {\n",
       "        vertical-align: middle;\n",
       "    }\n",
       "\n",
       "    .dataframe tbody tr th {\n",
       "        vertical-align: top;\n",
       "    }\n",
       "\n",
       "    .dataframe thead th {\n",
       "        text-align: right;\n",
       "    }\n",
       "</style>\n",
       "<table border=\"1\" class=\"dataframe\">\n",
       "  <thead>\n",
       "    <tr style=\"text-align: right;\">\n",
       "      <th></th>\n",
       "      <th>years</th>\n",
       "      <th>temp_september</th>\n",
       "    </tr>\n",
       "  </thead>\n",
       "  <tbody>\n",
       "    <tr>\n",
       "      <th>0</th>\n",
       "      <td>2011</td>\n",
       "      <td>26.70</td>\n",
       "    </tr>\n",
       "    <tr>\n",
       "      <th>1</th>\n",
       "      <td>2012</td>\n",
       "      <td>26.65</td>\n",
       "    </tr>\n",
       "    <tr>\n",
       "      <th>2</th>\n",
       "      <td>2013</td>\n",
       "      <td>26.87</td>\n",
       "    </tr>\n",
       "    <tr>\n",
       "      <th>3</th>\n",
       "      <td>2014</td>\n",
       "      <td>26.61</td>\n",
       "    </tr>\n",
       "    <tr>\n",
       "      <th>4</th>\n",
       "      <td>2016</td>\n",
       "      <td>27.72</td>\n",
       "    </tr>\n",
       "  </tbody>\n",
       "</table>\n",
       "</div>"
      ],
      "text/plain": [
       "   years  temp_september\n",
       "0   2011           26.70\n",
       "1   2012           26.65\n",
       "2   2013           26.87\n",
       "3   2014           26.61\n",
       "4   2016           27.72"
      ]
     },
     "execution_count": 50,
     "metadata": {},
     "output_type": "execute_result"
    }
   ],
   "source": [
    "data_sep"
   ]
  },
  {
   "cell_type": "code",
   "execution_count": 51,
   "id": "85bc1699",
   "metadata": {},
   "outputs": [
    {
     "data": {
      "image/png": "[encoded data removed]",
      "text/plain": [
       "<Figure size 864x720 with 1 Axes>"
      ]
     },
     "metadata": {
      "needs_background": "light"
     },
     "output_type": "display_data"
    }
   ],
   "source": [
    "# Estimate the temperature for September 2015 using Lagrange's Interpolation with 5 values\n",
    "lagrange_interpolation = scipy.interpolate.lagrange(years, temp_september)\n",
    "\n",
    "# Based on the graph the value can be estimated \n",
    "plt.figure(figsize=(12,10))\n",
    "plt.plot(years, lagrange_interpolation(years))\n",
    "plt.xlim(2011,2016)\n",
    "plt.ylim(26,28)\n",
    "plt.xlabel(\"Years\")\n",
    "plt.ylabel(\"Temperature in Celsius\")\n",
    "plt.title(\"Lagrange's Interpolation to estimate the temperature of September 2015\")\n",
    "plt.show()"
   ]
  },
  {
   "cell_type": "code",
   "execution_count": 52,
   "id": "f11968b5",
   "metadata": {},
   "outputs": [
    {
     "data": {
      "text/plain": [
       "27.165"
      ]
     },
     "execution_count": 52,
     "metadata": {},
     "output_type": "execute_result"
    }
   ],
   "source": [
    "# The value of temperature for September 2015 based on the graph\n",
    "\n",
    "np.interp(2015, years, temp_september)"
   ]
  },
  {
   "cell_type": "markdown",
   "id": "db543266",
   "metadata": {},
   "source": [
    "## Estimating the temperature of October 2015"
   ]
  },
  {
   "cell_type": "code",
   "execution_count": 53,
   "id": "de5d5623",
   "metadata": {},
   "outputs": [],
   "source": [
    "temp_october = [25.51,24.85,25.63,25.38,25.82,26.81]\n",
    "temp_october.remove(25.82)"
   ]
  },
  {
   "cell_type": "code",
   "execution_count": 54,
   "id": "8b5b913f",
   "metadata": {},
   "outputs": [],
   "source": [
    "data_oct = pd.DataFrame({\"years\": years, \"temp_october\": temp_october})"
   ]
  },
  {
   "cell_type": "code",
   "execution_count": 55,
   "id": "b055a174",
   "metadata": {},
   "outputs": [
    {
     "data": {
      "text/html": [
       "<div>\n",
       "<style scoped>\n",
       "    .dataframe tbody tr th:only-of-type {\n",
       "        vertical-align: middle;\n",
       "    }\n",
       "\n",
       "    .dataframe tbody tr th {\n",
       "        vertical-align: top;\n",
       "    }\n",
       "\n",
       "    .dataframe thead th {\n",
       "        text-align: right;\n",
       "    }\n",
       "</style>\n",
       "<table border=\"1\" class=\"dataframe\">\n",
       "  <thead>\n",
       "    <tr style=\"text-align: right;\">\n",
       "      <th></th>\n",
       "      <th>years</th>\n",
       "      <th>temp_october</th>\n",
       "    </tr>\n",
       "  </thead>\n",
       "  <tbody>\n",
       "    <tr>\n",
       "      <th>0</th>\n",
       "      <td>2011</td>\n",
       "      <td>25.51</td>\n",
       "    </tr>\n",
       "    <tr>\n",
       "      <th>1</th>\n",
       "      <td>2012</td>\n",
       "      <td>24.85</td>\n",
       "    </tr>\n",
       "    <tr>\n",
       "      <th>2</th>\n",
       "      <td>2013</td>\n",
       "      <td>25.63</td>\n",
       "    </tr>\n",
       "    <tr>\n",
       "      <th>3</th>\n",
       "      <td>2014</td>\n",
       "      <td>25.38</td>\n",
       "    </tr>\n",
       "    <tr>\n",
       "      <th>4</th>\n",
       "      <td>2016</td>\n",
       "      <td>26.81</td>\n",
       "    </tr>\n",
       "  </tbody>\n",
       "</table>\n",
       "</div>"
      ],
      "text/plain": [
       "   years  temp_october\n",
       "0   2011         25.51\n",
       "1   2012         24.85\n",
       "2   2013         25.63\n",
       "3   2014         25.38\n",
       "4   2016         26.81"
      ]
     },
     "execution_count": 55,
     "metadata": {},
     "output_type": "execute_result"
    }
   ],
   "source": [
    "data_oct"
   ]
  },
  {
   "cell_type": "code",
   "execution_count": 56,
   "id": "42d12cc7",
   "metadata": {},
   "outputs": [
    {
     "data": {
      "image/png": "[encoded data removed]",
      "text/plain": [
       "<Figure size 864x720 with 1 Axes>"
      ]
     },
     "metadata": {
      "needs_background": "light"
     },
     "output_type": "display_data"
    }
   ],
   "source": [
    "# Estimate the temperature for October 2015 using Lagrange's Interpolation with 5 values\n",
    "lagrange_interpolation = scipy.interpolate.lagrange(years, temp_october)\n",
    "\n",
    "# Based on the graph the value can be estimated \n",
    "plt.figure(figsize=(12,10))\n",
    "plt.plot(years, lagrange_interpolation(years))\n",
    "plt.xlim(2011,2016)\n",
    "plt.ylim(24.5,27)\n",
    "plt.xlabel(\"Years\")\n",
    "plt.ylabel(\"Temperature in Celsius\")\n",
    "plt.title(\"Lagrange's Interpolation to estimate the temperature of October 2015\")\n",
    "plt.show()"
   ]
  },
  {
   "cell_type": "code",
   "execution_count": 57,
   "id": "4fe05ff3",
   "metadata": {},
   "outputs": [
    {
     "data": {
      "text/plain": [
       "26.095"
      ]
     },
     "execution_count": 57,
     "metadata": {},
     "output_type": "execute_result"
    }
   ],
   "source": [
    "# The value of temperature for October 2015 based on the graph\n",
    "\n",
    "np.interp(2015, years, temp_october)"
   ]
  },
  {
   "cell_type": "markdown",
   "id": "81e72a8d",
   "metadata": {},
   "source": [
    "## Estimating the temperature of November 2015"
   ]
  },
  {
   "cell_type": "code",
   "execution_count": 58,
   "id": "406569ed",
   "metadata": {},
   "outputs": [],
   "source": [
    "temp_november = [22.84,22.26,22.18,22.53,22.95,23.9]\n",
    "temp_november.remove(22.95)"
   ]
  },
  {
   "cell_type": "code",
   "execution_count": 59,
   "id": "6f2c36ae",
   "metadata": {},
   "outputs": [],
   "source": [
    "data_nov = pd.DataFrame({\"years\": years, \"temp_november\": temp_november})"
   ]
  },
  {
   "cell_type": "code",
   "execution_count": 60,
   "id": "23c18696",
   "metadata": {},
   "outputs": [
    {
     "data": {
      "text/html": [
       "<div>\n",
       "<style scoped>\n",
       "    .dataframe tbody tr th:only-of-type {\n",
       "        vertical-align: middle;\n",
       "    }\n",
       "\n",
       "    .dataframe tbody tr th {\n",
       "        vertical-align: top;\n",
       "    }\n",
       "\n",
       "    .dataframe thead th {\n",
       "        text-align: right;\n",
       "    }\n",
       "</style>\n",
       "<table border=\"1\" class=\"dataframe\">\n",
       "  <thead>\n",
       "    <tr style=\"text-align: right;\">\n",
       "      <th></th>\n",
       "      <th>years</th>\n",
       "      <th>temp_november</th>\n",
       "    </tr>\n",
       "  </thead>\n",
       "  <tbody>\n",
       "    <tr>\n",
       "      <th>0</th>\n",
       "      <td>2011</td>\n",
       "      <td>22.84</td>\n",
       "    </tr>\n",
       "    <tr>\n",
       "      <th>1</th>\n",
       "      <td>2012</td>\n",
       "      <td>22.26</td>\n",
       "    </tr>\n",
       "    <tr>\n",
       "      <th>2</th>\n",
       "      <td>2013</td>\n",
       "      <td>22.18</td>\n",
       "    </tr>\n",
       "    <tr>\n",
       "      <th>3</th>\n",
       "      <td>2014</td>\n",
       "      <td>22.53</td>\n",
       "    </tr>\n",
       "    <tr>\n",
       "      <th>4</th>\n",
       "      <td>2016</td>\n",
       "      <td>23.90</td>\n",
       "    </tr>\n",
       "  </tbody>\n",
       "</table>\n",
       "</div>"
      ],
      "text/plain": [
       "   years  temp_november\n",
       "0   2011          22.84\n",
       "1   2012          22.26\n",
       "2   2013          22.18\n",
       "3   2014          22.53\n",
       "4   2016          23.90"
      ]
     },
     "execution_count": 60,
     "metadata": {},
     "output_type": "execute_result"
    }
   ],
   "source": [
    "data_nov"
   ]
  },
  {
   "cell_type": "code",
   "execution_count": 61,
   "id": "d0e6bbc6",
   "metadata": {},
   "outputs": [
    {
     "data": {
      "image/png": "[encoded data removed]",
      "text/plain": [
       "<Figure size 864x720 with 1 Axes>"
      ]
     },
     "metadata": {
      "needs_background": "light"
     },
     "output_type": "display_data"
    }
   ],
   "source": [
    "# Estimate the temperature for November 2015 using Lagrange's Interpolation with 5 values\n",
    "lagrange_interpolation = scipy.interpolate.lagrange(years, temp_november)\n",
    "\n",
    "# Based on the graph the value can be estimated \n",
    "plt.figure(figsize=(12,10))\n",
    "plt.plot(years, lagrange_interpolation(years))\n",
    "plt.xlim(2011,2016)\n",
    "plt.ylim(22,24)\n",
    "plt.xlabel(\"Years\")\n",
    "plt.ylabel(\"Temperature in Celsius\")\n",
    "plt.title(\"Lagrange's Interpolation to estimate the temperature of November 2015\")\n",
    "plt.show()"
   ]
  },
  {
   "cell_type": "code",
   "execution_count": 62,
   "id": "c058c7e3",
   "metadata": {},
   "outputs": [
    {
     "data": {
      "text/plain": [
       "23.215"
      ]
     },
     "execution_count": 62,
     "metadata": {},
     "output_type": "execute_result"
    }
   ],
   "source": [
    "# The value of temperature for November 2015 based on the graph\n",
    "\n",
    "np.interp(2015, years, temp_november)"
   ]
  },
  {
   "cell_type": "markdown",
   "id": "71f0cd0b",
   "metadata": {},
   "source": [
    "## Estimating the temperature of December 2015"
   ]
  },
  {
   "cell_type": "code",
   "execution_count": 63,
   "id": "715a03f4",
   "metadata": {},
   "outputs": [],
   "source": [
    "temp_december = [19.84,19.91,19.69,19.5,20.21,21.89]\n",
    "temp_december.remove(20.21)"
   ]
  },
  {
   "cell_type": "code",
   "execution_count": 64,
   "id": "05675aea",
   "metadata": {},
   "outputs": [],
   "source": [
    "data_dec = pd.DataFrame({\"years\": years, \"temp_december\": temp_december})"
   ]
  },
  {
   "cell_type": "code",
   "execution_count": 65,
   "id": "be4a52b9",
   "metadata": {},
   "outputs": [
    {
     "data": {
      "text/html": [
       "<div>\n",
       "<style scoped>\n",
       "    .dataframe tbody tr th:only-of-type {\n",
       "        vertical-align: middle;\n",
       "    }\n",
       "\n",
       "    .dataframe tbody tr th {\n",
       "        vertical-align: top;\n",
       "    }\n",
       "\n",
       "    .dataframe thead th {\n",
       "        text-align: right;\n",
       "    }\n",
       "</style>\n",
       "<table border=\"1\" class=\"dataframe\">\n",
       "  <thead>\n",
       "    <tr style=\"text-align: right;\">\n",
       "      <th></th>\n",
       "      <th>years</th>\n",
       "      <th>temp_december</th>\n",
       "    </tr>\n",
       "  </thead>\n",
       "  <tbody>\n",
       "    <tr>\n",
       "      <th>0</th>\n",
       "      <td>2011</td>\n",
       "      <td>19.84</td>\n",
       "    </tr>\n",
       "    <tr>\n",
       "      <th>1</th>\n",
       "      <td>2012</td>\n",
       "      <td>19.91</td>\n",
       "    </tr>\n",
       "    <tr>\n",
       "      <th>2</th>\n",
       "      <td>2013</td>\n",
       "      <td>19.69</td>\n",
       "    </tr>\n",
       "    <tr>\n",
       "      <th>3</th>\n",
       "      <td>2014</td>\n",
       "      <td>19.50</td>\n",
       "    </tr>\n",
       "    <tr>\n",
       "      <th>4</th>\n",
       "      <td>2016</td>\n",
       "      <td>21.89</td>\n",
       "    </tr>\n",
       "  </tbody>\n",
       "</table>\n",
       "</div>"
      ],
      "text/plain": [
       "   years  temp_december\n",
       "0   2011          19.84\n",
       "1   2012          19.91\n",
       "2   2013          19.69\n",
       "3   2014          19.50\n",
       "4   2016          21.89"
      ]
     },
     "execution_count": 65,
     "metadata": {},
     "output_type": "execute_result"
    }
   ],
   "source": [
    "data_dec"
   ]
  },
  {
   "cell_type": "code",
   "execution_count": 66,
   "id": "5f9e9c79",
   "metadata": {},
   "outputs": [
    {
     "data": {
      "image/png": "[encoded data removed]",
      "text/plain": [
       "<Figure size 864x720 with 1 Axes>"
      ]
     },
     "metadata": {
      "needs_background": "light"
     },
     "output_type": "display_data"
    }
   ],
   "source": [
    "# Estimate the temperature for December 2015 using Lagrange's Interpolation with 5 values\n",
    "lagrange_interpolation = scipy.interpolate.lagrange(years, temp_december)\n",
    "\n",
    "# Based on the graph the value can be estimated \n",
    "plt.figure(figsize=(12,10))\n",
    "plt.plot(years, lagrange_interpolation(years))\n",
    "plt.xlim(2011,2016)\n",
    "plt.ylim(19,22)\n",
    "plt.xlabel(\"Years\")\n",
    "plt.ylabel(\"Temperature in Celsius\")\n",
    "plt.title(\"Lagrange's Interpolation to estimate the temperature of December 2015\")\n",
    "plt.show()"
   ]
  },
  {
   "cell_type": "code",
   "execution_count": 67,
   "id": "2c8804e7",
   "metadata": {},
   "outputs": [
    {
     "data": {
      "text/plain": [
       "20.695"
      ]
     },
     "execution_count": 67,
     "metadata": {},
     "output_type": "execute_result"
    }
   ],
   "source": [
    "# The value of temperature for December 2015 based on the graph\n",
    "\n",
    "np.interp(2015, years, temp_december)"
   ]
  },
  {
   "cell_type": "markdown",
   "id": "e039cb2e",
   "metadata": {},
   "source": [
    "## Comparing the estimated values with the actual values of temperature"
   ]
  },
  {
   "cell_type": "code",
   "execution_count": 68,
   "id": "697cfb00",
   "metadata": {},
   "outputs": [],
   "source": [
    "estimated_values = [np.interp(2015, years, temp_january),\n",
    "                    np.interp(2015, years, temp_february),\n",
    "                    np.interp(2015, years, temp_march),\n",
    "                    np.interp(2015, years, temp_april),\n",
    "                    np.interp(2015, years, temp_may),\n",
    "                    np.interp(2015, years, temp_june),\n",
    "                    np.interp(2015, years, temp_july),\n",
    "                    np.interp(2015, years, temp_august),\n",
    "                    np.interp(2015, years, temp_september),\n",
    "                    np.interp(2015, years, temp_october),\n",
    "                    np.interp(2015, years, temp_november),\n",
    "                    np.interp(2015, years, temp_december)]"
   ]
  },
  {
   "cell_type": "code",
   "execution_count": 69,
   "id": "41eea981",
   "metadata": {},
   "outputs": [],
   "source": [
    "actual_values = [19.02,21.23,23.52,26.52,28.82,28.15,28.03,27.64,27.04,25.82,22.95,20.21]"
   ]
  },
  {
   "cell_type": "code",
   "execution_count": 70,
   "id": "639ebaa9",
   "metadata": {},
   "outputs": [],
   "source": [
    "import statistics"
   ]
  },
  {
   "cell_type": "code",
   "execution_count": 72,
   "id": "9f153beb",
   "metadata": {},
   "outputs": [],
   "source": [
    "# Calculating the average temperature of 2015 (based on both estimated and actual values)\n",
    "\n",
    "estimated_vals_avg = statistics.mean(estimated_values)\n",
    "actual_vals_avg = statistics.mean(actual_values)"
   ]
  },
  {
   "cell_type": "markdown",
   "id": "138d4e72",
   "metadata": {},
   "source": [
    "## Computing the Mean Absolute Percentage Error (MAPE)"
   ]
  },
  {
   "cell_type": "code",
   "execution_count": 73,
   "id": "009cfd80",
   "metadata": {},
   "outputs": [],
   "source": [
    "# Defining a function to calculate Mean Absolute Percentage Error\n",
    "\n",
    "def mape(actual, pred): \n",
    "    actual, pred = np.array(actual), np.array(pred)\n",
    "    return np.mean(np.abs((actual - pred) / actual)) * 100"
   ]
  },
  {
   "cell_type": "code",
   "execution_count": 74,
   "id": "cec48aed",
   "metadata": {},
   "outputs": [
    {
     "data": {
      "text/plain": [
       "2.732898478006351"
      ]
     },
     "execution_count": 74,
     "metadata": {},
     "output_type": "execute_result"
    }
   ],
   "source": [
    "# Error Calculation for estimated and actual values of average temperature of the year 2015\n",
    "\n",
    "mape(actual_vals_avg, estimated_vals_avg)"
   ]
  },
  {
   "cell_type": "code",
   "execution_count": 76,
   "id": "aede843c",
   "metadata": {},
   "outputs": [
    {
     "data": {
      "text/plain": [
       "4.442691903259739"
      ]
     },
     "execution_count": 76,
     "metadata": {},
     "output_type": "execute_result"
    }
   ],
   "source": [
    "# Error Calculation for estimated and actual values of temperature in January 2015\n",
    "\n",
    "mape(actual_values[0], estimated_values[0])"
   ]
  },
  {
   "cell_type": "code",
   "execution_count": 77,
   "id": "62fe5177",
   "metadata": {},
   "outputs": [
    {
     "data": {
      "text/plain": [
       "3.4620819594912833"
      ]
     },
     "execution_count": 77,
     "metadata": {},
     "output_type": "execute_result"
    }
   ],
   "source": [
    "# Error Calculation for estimated and actual values of temperature in February 2015\n",
    "\n",
    "mape(actual_values[1], estimated_values[1])"
   ]
  },
  {
   "cell_type": "code",
   "execution_count": 78,
   "id": "10b15651",
   "metadata": {},
   "outputs": [
    {
     "data": {
      "text/plain": [
       "6.186224489795927"
      ]
     },
     "execution_count": 78,
     "metadata": {},
     "output_type": "execute_result"
    }
   ],
   "source": [
    "# Error Calculation for estimated and actual values of temperature in March 2015\n",
    "\n",
    "mape(actual_values[2], estimated_values[2])"
   ]
  },
  {
   "cell_type": "code",
   "execution_count": 79,
   "id": "ffbe900a",
   "metadata": {},
   "outputs": [
    {
     "data": {
      "text/plain": [
       "6.46681749622926"
      ]
     },
     "execution_count": 79,
     "metadata": {},
     "output_type": "execute_result"
    }
   ],
   "source": [
    "# Error Calculation for estimated and actual values of temperature in April 2015\n",
    "\n",
    "mape(actual_values[3], estimated_values[3])"
   ]
  },
  {
   "cell_type": "code",
   "execution_count": 80,
   "id": "63dee61b",
   "metadata": {},
   "outputs": [
    {
     "data": {
      "text/plain": [
       "2.116585704371962"
      ]
     },
     "execution_count": 80,
     "metadata": {},
     "output_type": "execute_result"
    }
   ],
   "source": [
    "# Error Calculation for estimated and actual values of temperature in May 2015\n",
    "\n",
    "mape(actual_values[4], estimated_values[4])"
   ]
  },
  {
   "cell_type": "code",
   "execution_count": 81,
   "id": "9abdc4d7",
   "metadata": {},
   "outputs": [
    {
     "data": {
      "text/plain": [
       "5.008880994671417"
      ]
     },
     "execution_count": 81,
     "metadata": {},
     "output_type": "execute_result"
    }
   ],
   "source": [
    "# Error Calculation for estimated and actual values of temperature in June 2015\n",
    "\n",
    "mape(actual_values[5], estimated_values[5])"
   ]
  },
  {
   "cell_type": "code",
   "execution_count": 82,
   "id": "61c130ec",
   "metadata": {},
   "outputs": [
    {
     "data": {
      "text/plain": [
       "0.3389225829468386"
      ]
     },
     "execution_count": 82,
     "metadata": {},
     "output_type": "execute_result"
    }
   ],
   "source": [
    "# Error Calculation for estimated and actual values of temperature in July 2015\n",
    "\n",
    "mape(actual_values[6], estimated_values[6])"
   ]
  },
  {
   "cell_type": "code",
   "execution_count": 83,
   "id": "6cdae913",
   "metadata": {},
   "outputs": [
    {
     "data": {
      "text/plain": [
       "0.560781476121567"
      ]
     },
     "execution_count": 83,
     "metadata": {},
     "output_type": "execute_result"
    }
   ],
   "source": [
    "# Error Calculation for estimated and actual values of temperature in August 2015\n",
    "\n",
    "mape(actual_values[7], estimated_values[7])"
   ]
  },
  {
   "cell_type": "code",
   "execution_count": 84,
   "id": "92d5c5f4",
   "metadata": {},
   "outputs": [
    {
     "data": {
      "text/plain": [
       "0.46227810650887574"
      ]
     },
     "execution_count": 84,
     "metadata": {},
     "output_type": "execute_result"
    }
   ],
   "source": [
    "# Error Calculation for estimated and actual values of temperature in September 2015\n",
    "\n",
    "mape(actual_values[8], estimated_values[8])"
   ]
  },
  {
   "cell_type": "code",
   "execution_count": 85,
   "id": "7e4c8dc1",
   "metadata": {},
   "outputs": [
    {
     "data": {
      "text/plain": [
       "1.0650658404337667"
      ]
     },
     "execution_count": 85,
     "metadata": {},
     "output_type": "execute_result"
    }
   ],
   "source": [
    "# Error Calculation for estimated and actual values of temperature in October 2015\n",
    "\n",
    "mape(actual_values[9], estimated_values[9])"
   ]
  },
  {
   "cell_type": "code",
   "execution_count": 87,
   "id": "8a02d9a9",
   "metadata": {},
   "outputs": [
    {
     "data": {
      "text/plain": [
       "1.1546840958605689"
      ]
     },
     "execution_count": 87,
     "metadata": {},
     "output_type": "execute_result"
    }
   ],
   "source": [
    "# Error Calculation for estimated and actual values of temperature in November 2015\n",
    "\n",
    "mape(actual_values[10], estimated_values[10])"
   ]
  },
  {
   "cell_type": "code",
   "execution_count": 88,
   "id": "74774c19",
   "metadata": {},
   "outputs": [
    {
     "data": {
      "text/plain": [
       "2.3998020781791163"
      ]
     },
     "execution_count": 88,
     "metadata": {},
     "output_type": "execute_result"
    }
   ],
   "source": [
    "# Error Calculation for estimated and actual values of temperature in December 2015\n",
    "\n",
    "mape(actual_values[11], estimated_values[11])"
   ]
  },
  {
   "cell_type": "markdown",
   "id": "a5d0c258",
   "metadata": {},
   "source": [
    "## Conclusion"
   ]
  },
  {
   "cell_type": "markdown",
   "id": "ab62b105",
   "metadata": {},
   "source": [
    "Based on given analysis, Lagrange's Interpolation has been verified with real-life data. The values estimated based on it have been almost accurate with only 0.5% to 6.4% error occuring."
   ]
  },
  {
   "cell_type": "code",
   "execution_count": null,
   "id": "960f5a97",
   "metadata": {},
   "outputs": [],
   "source": []
  }
 ],
 "metadata": {
  "kernelspec": {
   "display_name": "Python 3 (ipykernel)",
   "language": "python",
   "name": "python3"
  },
  "language_info": {
   "codemirror_mode": {
    "name": "ipython",
    "version": 3
   },
   "file_extension": ".py",
   "mimetype": "text/x-python",
   "name": "python",
   "nbconvert_exporter": "python",
   "pygments_lexer": "ipython3",
   "version": "3.9.7"
  }
 },
 "nbformat": 4,
 "nbformat_minor": 5
}
